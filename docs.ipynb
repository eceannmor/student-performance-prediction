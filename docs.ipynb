{
 "cells": [
  {
   "cell_type": "markdown",
   "metadata": {},
   "source": [
    "# Data analysis\n",
    "## Models used\n",
    "* **K-Nearest-Neighbors Regressor** - chosen as an obvious first approach that a person would take to analyse the data. Runs quickly and produces better-than-random results.\n",
    "* **Random Sample Consessus** - chosen as a good method to isolate the main pattern from the outliers. In this specific dataset, outliers are expected in a form of straigh-A students and students who do not care (in those cases, input values do not neccesarly determine the outcome). This can be seen on the final graphs, especially with grades closest to 100%\n",
    "* **Linear Support Vector Machine** - chosen for the promise of better performance with multidimensional data (in this specific dataset, there are 35 dimensions). The performance varies depending on a random seed and the number of iterations allowed.\n",
    "\n",
    "## Implementation"
   ]
  },
  {
   "cell_type": "code",
   "execution_count": null,
   "metadata": {},
   "outputs": [],
   "source": [
    "# KNN\n",
    "neighbors = 9 # selected manually\n",
    "neigh = KNeighborsRegressor(n_neighbors=neighbors)\n",
    "neigh.fit(X_train, y_train)\n",
    "# RANSAC\n",
    "ransac = linear_model.RANSACRegressor(random_state=seed)\n",
    "ransac.fit(X_train, y_train)\n",
    "# LinSVM\n",
    "svr = svm.LinearSVR(random_state=seed)\n",
    "svr.fit(X_train, y_train)"
   ]
  },
  {
   "cell_type": "markdown",
   "metadata": {},
   "source": [
    "## Analysis\n",
    "<small>For replicating this specific result, set the seed to `598`<br/>See `analysis chart.png` in the root of the repository</small>\n",
    "1. `RANSAC` stands out with the best R<sup>2</sup> score at just above `0.8`. This is considered to be in the `[0.5-0.99]` acceptable range, and taking the outliers in the dataset into account, a good prediction.\n",
    "Has the lowest Mean Squared Error between the 3 models at `2.8`.\n",
    "2. `SVM`, while having a slight chance at beating the `RANSAC` model, heavily relies on the random seed and, while still quite accurate, more often than not produces worse results\n",
    "3. `KNN` lacks the accuracy that the other 2 models demonstate. The model has been manually tested with different paramenters, and it hasn't produced a R<sup>2</sup> value higher than `0.35`, which marks the predictions as **unreliable**. Has the largest Mean Squared Error between the 3 models at `9.5`.\n",
    "\n",
    "This suggests that `RANSAC` would be the most accurate and performant model to use on this specific dataset. `KNN` is not being considered due to low R<sup>2</sup> score, and `SVM` - due to performance disadvantage and heavy unpredictability"
   ]
  }
 ],
 "metadata": {
  "kernelspec": {
   "display_name": "Python 3",
   "language": "python",
   "name": "python3"
  },
  "language_info": {
   "name": "python",
   "version": "3.10.12"
  }
 },
 "nbformat": 4,
 "nbformat_minor": 2
}
